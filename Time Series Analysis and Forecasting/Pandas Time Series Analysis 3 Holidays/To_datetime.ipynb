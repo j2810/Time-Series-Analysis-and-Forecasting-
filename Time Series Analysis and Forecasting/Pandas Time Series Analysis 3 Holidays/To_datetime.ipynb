{
 "cells": [
  {
   "cell_type": "code",
   "execution_count": 1,
   "id": "1f2a08fc-610e-4f64-8656-0e1c3343137e",
   "metadata": {},
   "outputs": [],
   "source": [
    "import pandas as pd"
   ]
  },
  {
   "cell_type": "code",
   "execution_count": 3,
   "id": "27efd507-7024-4dcd-a088-5de9b8fd598f",
   "metadata": {},
   "outputs": [
    {
     "data": {
      "text/plain": [
       "DatetimeIndex(['2017-01-05', '2017-01-05', '2017-01-05', '2017-01-05',\n",
       "               '2017-01-05', '2017-01-05'],\n",
       "              dtype='datetime64[ns]', freq=None)"
      ]
     },
     "execution_count": 3,
     "metadata": {},
     "output_type": "execute_result"
    }
   ],
   "source": [
    "dates=['2017-01-05', 'Jan 5, 2017','01/05/2017', '2017.01.05','2017/01/05','20170105']\n",
    "pd.to_datetime(dates,format='mixed')"
   ]
  },
  {
   "cell_type": "code",
   "execution_count": 4,
   "id": "53136b9d-ed86-450f-9676-38ea63c9d69e",
   "metadata": {},
   "outputs": [
    {
     "data": {
      "text/plain": [
       "DatetimeIndex(['2017-01-05 14:30:00', '2017-01-05 14:30:00',\n",
       "               '2017-01-05 00:00:00', '2017-01-05 00:00:00',\n",
       "               '2017-01-05 00:00:00', '2017-01-05 00:00:00'],\n",
       "              dtype='datetime64[ns]', freq=None)"
      ]
     },
     "execution_count": 4,
     "metadata": {},
     "output_type": "execute_result"
    }
   ],
   "source": [
    "dates=['2017-01-05 2:30:00 PM', 'Jan 5, 2017 14:30:00 ','01/05/2017', '2017.01.05','2017/01/05','20170105']\n",
    "pd.to_datetime(dates,format='mixed')"
   ]
  },
  {
   "cell_type": "code",
   "execution_count": 6,
   "id": "b62ece82-e4c4-458f-8564-3b6620248f33",
   "metadata": {},
   "outputs": [
    {
     "data": {
      "text/plain": [
       "Timestamp('2017-05-01 00:00:00')"
      ]
     },
     "execution_count": 6,
     "metadata": {},
     "output_type": "execute_result"
    }
   ],
   "source": [
    "pd.to_datetime('5/1/2017')"
   ]
  },
  {
   "cell_type": "code",
   "execution_count": 7,
   "id": "7f8613b8-ed4d-4533-87f1-86ea6467a071",
   "metadata": {},
   "outputs": [
    {
     "data": {
      "text/plain": [
       "Timestamp('2017-01-05 00:00:00')"
      ]
     },
     "execution_count": 7,
     "metadata": {},
     "output_type": "execute_result"
    }
   ],
   "source": [
    "pd.to_datetime('5/1/2017',dayfirst=True)"
   ]
  },
  {
   "cell_type": "code",
   "execution_count": 14,
   "id": "0ae06bc0-6773-4ec4-8c13-5870970d0dba",
   "metadata": {},
   "outputs": [
    {
     "data": {
      "text/plain": [
       "Timestamp('2017-05-01 00:00:00')"
      ]
     },
     "execution_count": 14,
     "metadata": {},
     "output_type": "execute_result"
    }
   ],
   "source": [
    "pd.to_datetime('5/1/2017',dayfirst=False)"
   ]
  },
  {
   "cell_type": "code",
   "execution_count": 11,
   "id": "3b3fe07f-8fae-43c3-ab5e-c93c507baf25",
   "metadata": {},
   "outputs": [
    {
     "data": {
      "text/plain": [
       "Timestamp('2017-01-05 00:01:00')"
      ]
     },
     "execution_count": 11,
     "metadata": {},
     "output_type": "execute_result"
    }
   ],
   "source": [
    "pd.to_datetime('5$1$2017',format='%d$%M$%Y')"
   ]
  },
  {
   "cell_type": "code",
   "execution_count": 12,
   "id": "79777d25-f388-4d79-84b5-877e2b36ff19",
   "metadata": {},
   "outputs": [
    {
     "name": "stderr",
     "output_type": "stream",
     "text": [
      "C:\\Users\\jaykh\\AppData\\Local\\Temp\\ipykernel_21292\\4253812306.py:2: FutureWarning: errors='ignore' is deprecated and will raise in a future version. Use to_datetime without passing `errors` and catch exceptions explicitly instead\n",
      "  pd.to_datetime(dates,format='mixed',errors='ignore')\n"
     ]
    },
    {
     "data": {
      "text/plain": [
       "Index(['2017-01-05', 'Jan 5, 2017', '01/05/2017', '2017.01.05', '2017/01/05',\n",
       "       '20170105', 'abc'],\n",
       "      dtype='object')"
      ]
     },
     "execution_count": 12,
     "metadata": {},
     "output_type": "execute_result"
    }
   ],
   "source": [
    "dates=['2017-01-05', 'Jan 5, 2017','01/05/2017', '2017.01.05','2017/01/05','20170105','abc']\n",
    "pd.to_datetime(dates,format='mixed',errors='ignore')"
   ]
  },
  {
   "cell_type": "code",
   "execution_count": 13,
   "id": "40021646-07c4-4c65-917a-99d769f74fcb",
   "metadata": {},
   "outputs": [
    {
     "data": {
      "text/plain": [
       "DatetimeIndex(['2017-01-05', '2017-01-05', '2017-01-05', '2017-01-05',\n",
       "               '2017-01-05', '2017-01-05',        'NaT'],\n",
       "              dtype='datetime64[ns]', freq=None)"
      ]
     },
     "execution_count": 13,
     "metadata": {},
     "output_type": "execute_result"
    }
   ],
   "source": [
    "dates=['2017-01-05', 'Jan 5, 2017','01/05/2017', '2017.01.05','2017/01/05','20170105','abc']\n",
    "pd.to_datetime(dates,format='mixed',errors='coerce')"
   ]
  },
  {
   "cell_type": "code",
   "execution_count": 15,
   "id": "6ff8ed29-59ce-4ee9-973f-9d10bccc28f4",
   "metadata": {},
   "outputs": [
    {
     "data": {
      "text/plain": [
       "Timestamp('1970-01-01 00:00:01.501356749')"
      ]
     },
     "execution_count": 15,
     "metadata": {},
     "output_type": "execute_result"
    }
   ],
   "source": [
    "t=1501356749\n",
    "pd.to_datetime(t)"
   ]
  },
  {
   "cell_type": "code",
   "execution_count": 16,
   "id": "20a8a076-cf4e-43d0-9b9c-d3b6946cd01b",
   "metadata": {},
   "outputs": [
    {
     "data": {
      "text/plain": [
       "Timestamp('2017-07-29 19:32:29')"
      ]
     },
     "execution_count": 16,
     "metadata": {},
     "output_type": "execute_result"
    }
   ],
   "source": [
    "t=1501356749\n",
    "pd.to_datetime(t,unit='s')"
   ]
  },
  {
   "cell_type": "code",
   "execution_count": 20,
   "id": "18cd9817-3f9f-4706-a0fa-1d024a675a02",
   "metadata": {},
   "outputs": [
    {
     "data": {
      "text/plain": [
       "DatetimeIndex(['2017-07-29 19:32:29'], dtype='datetime64[ns]', freq=None)"
      ]
     },
     "execution_count": 20,
     "metadata": {},
     "output_type": "execute_result"
    }
   ],
   "source": [
    "t=1501356749\n",
    "dt=pd.to_datetime([t],unit='s')\n",
    "dt"
   ]
  },
  {
   "cell_type": "code",
   "execution_count": 21,
   "id": "cc881e42-c8c5-4455-9040-637e2de15ef2",
   "metadata": {},
   "outputs": [
    {
     "data": {
      "text/plain": [
       "array([1501356749000000000], dtype=int64)"
      ]
     },
     "execution_count": 21,
     "metadata": {},
     "output_type": "execute_result"
    }
   ],
   "source": [
    "dt.view('int64')"
   ]
  },
  {
   "cell_type": "code",
   "execution_count": null,
   "id": "e0270511-4b1e-408f-b093-2127d584de69",
   "metadata": {},
   "outputs": [],
   "source": []
  }
 ],
 "metadata": {
  "kernelspec": {
   "display_name": "Python 3 (ipykernel)",
   "language": "python",
   "name": "python3"
  },
  "language_info": {
   "codemirror_mode": {
    "name": "ipython",
    "version": 3
   },
   "file_extension": ".py",
   "mimetype": "text/x-python",
   "name": "python",
   "nbconvert_exporter": "python",
   "pygments_lexer": "ipython3",
   "version": "3.12.3"
  }
 },
 "nbformat": 4,
 "nbformat_minor": 5
}
